{
  "nbformat": 4,
  "nbformat_minor": 0,
  "metadata": {
    "colab": {
      "provenance": [],
      "authorship_tag": "ABX9TyMNlC+g2NDWBms4057WCx3D",
      "include_colab_link": true
    },
    "kernelspec": {
      "name": "python3",
      "display_name": "Python 3"
    },
    "language_info": {
      "name": "python"
    }
  },
  "cells": [
    {
      "cell_type": "markdown",
      "metadata": {
        "id": "view-in-github",
        "colab_type": "text"
      },
      "source": [
        "<a href=\"https://colab.research.google.com/github/99smartleader/Assignments-for-Data-Science-Course-/blob/main/Assignment_1.ipynb\" target=\"_parent\"><img src=\"https://colab.research.google.com/assets/colab-badge.svg\" alt=\"Open In Colab\"/></a>"
      ]
    },
    {
      "cell_type": "markdown",
      "source": [
        "Name - Amritesh Pandey\n",
        "\n",
        "Reg No - 22-14-02\n",
        "\n",
        "\n",
        "\n"
      ],
      "metadata": {
        "id": "pqFNpgkj20HR"
      }
    },
    {
      "cell_type": "markdown",
      "source": [
        "# Assignment Solution"
      ],
      "metadata": {
        "id": "PYL48UcZxrPQ"
      }
    },
    {
      "cell_type": "markdown",
      "source": [
        "-----------------------------------------------------------------------------------------------------------------------------------------------------------------------------------------------------\n",
        "--------------------------------------------------------------------------------------------------------------------------------------------------------------------------------------------------------\n",
        "**sol 1**\n"
      ],
      "metadata": {
        "id": "EGAEXMjC-Oa1"
      }
    },
    {
      "cell_type": "code",
      "source": [
        "#import time\n",
        "\n",
        "#A = [int(i) for i in input().split(\" \")]\n",
        "A = list(map(int,input().split(\" \")))\n",
        "#start = time.time()\n",
        "ARev = A[::-1]\n",
        "ARev\n",
        "results = [A1 * A2 for A1,A2 in zip(A,ARev)]\n",
        "#end = time.time()\n",
        "for i in range(len(results)):\n",
        "  print(results[i], end = \" \")\n",
        "#print(\"\\n\",end-start)\n"
      ],
      "metadata": {
        "id": "5j0pK4G321hb"
      },
      "execution_count": null,
      "outputs": []
    },
    {
      "cell_type": "markdown",
      "source": [
        "------------------------------------------------------------------------------------------------------------------------------------------------------------------------------------------------\n",
        "-------------------------------------------------------------------------------------------------------------------------------------------------------------------------------------------------\n",
        "**sol 2**"
      ],
      "metadata": {
        "id": "oj94JbRm-gya"
      }
    },
    {
      "cell_type": "code",
      "source": [
        "#A = [int(i) for i in input().split(\" \")]\n",
        "A = list(map(int,input().split(\" \")))\n",
        "N = sorted(A)\n",
        "x = list(set(N))\n",
        "print(x[-2], x[1])"
      ],
      "metadata": {
        "id": "AvyZ5ygJ3LWf"
      },
      "execution_count": null,
      "outputs": []
    },
    {
      "cell_type": "markdown",
      "source": [
        "-------------------------------------------------------------------------------------------------------------------------------------------------------------------------------------------------\n",
        "--------------------------------------------------------------------------------------------------------------------------------------------------------------------------------------------------------\n",
        " **Sol 3**"
      ],
      "metadata": {
        "id": "bCWl9L_Fjbni"
      }
    },
    {
      "cell_type": "code",
      "source": [
        "A = list(map(int,input().split(\" \")))\n",
        "New = [i for i in A if i%5!=0]\n",
        "for i in range(len(New)):\n",
        "  print(New[i], end = \" \")"
      ],
      "metadata": {
        "id": "7U3E8ET75Ifo"
      },
      "execution_count": null,
      "outputs": []
    },
    {
      "cell_type": "markdown",
      "source": [
        "---------------------------------------------------------------------------------------------------------------------------------------------------------------------------\n",
        "------------------------------------------------------------------------------------------------------------------------------------------------------------------------------------------\n",
        "**Sol 4**"
      ],
      "metadata": {
        "id": "Rm7HdrQclMqh"
      }
    },
    {
      "cell_type": "code",
      "source": [
        "I = input()\n",
        "Count0 = 0\n",
        "Count1 = 0\n",
        "for i in range(len(I)):\n",
        "  if I[i] == \"0\":\n",
        "    Count0 += 1\n",
        "  else:\n",
        "    Count1 += 1\n",
        "if Count0 == 1 or Count1 == 1:\n",
        "  print(\"Yes\")\n",
        "else:\n",
        "  print(\"No\")\n",
        "   \n"
      ],
      "metadata": {
        "id": "lShuJ00Q6aq-"
      },
      "execution_count": null,
      "outputs": []
    },
    {
      "cell_type": "markdown",
      "source": [
        "-----------------------------------------------------------------------------------------------------------------------------------------------------------------------------------------------------------------------------------------------\n",
        "----------------------------------------------------------------------------------------------------------------------------------------------------------------------------------------------\n",
        "**Sol 5**"
      ],
      "metadata": {
        "id": "tNd6iZXx6LQM"
      }
    },
    {
      "cell_type": "code",
      "source": [
        "n = int(input())\n",
        "f = 1\n",
        "for i in range(1,n+1):\n",
        "  f = f*i\n",
        "print(f)\n",
        "\n",
        "\n",
        "# Alternate solution\n",
        "#from math import factorial\n",
        "\n",
        "#n = int(input())\n",
        "#factorial(n)"
      ],
      "metadata": {
        "id": "NuWofCk18edr"
      },
      "execution_count": null,
      "outputs": []
    },
    {
      "cell_type": "markdown",
      "source": [
        "--------------------------------------------------------------------------------------------------------------------------------------------------------------------------------------------------------\n",
        "----------------------------------------------------------------------------------------------------------------------------------------------------------------------------------------------------------------------------------------------------------------------------------------------------------------------------------------------------------------------\n",
        "**sol 6**"
      ],
      "metadata": {
        "id": "p1eu9-nh9qZ1"
      }
    },
    {
      "cell_type": "code",
      "source": [
        "X = list(map(int,input().split(\",\")))\n",
        "m = X[0]\n",
        "n = X[1]\n",
        "result =[]\n",
        "for i in range(m,n+1):\n",
        "  a= str(i)\n",
        "  if int(a[0]) % 2 == 0 and int(a[1]) % 2 == 0 and int(a[2]) % 2 == 0 and int(a[3]) % 2 == 0:\n",
        "    result.append(i)\n",
        "for i in range(len(result)):\n",
        "  print(result[i], end = \",\")\n",
        "\n"
      ],
      "metadata": {
        "id": "Y7SAc53U9uwv"
      },
      "execution_count": null,
      "outputs": []
    }
  ]
}
